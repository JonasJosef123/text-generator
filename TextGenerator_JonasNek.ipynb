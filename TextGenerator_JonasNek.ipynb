{
  "nbformat": 4,
  "nbformat_minor": 0,
  "metadata": {
    "colab": {
      "name": "Untitled1.ipynb",
      "provenance": [],
      "collapsed_sections": []
    },
    "kernelspec": {
      "name": "python3",
      "display_name": "Python 3"
    }
  },
  "cells": [
    {
      "cell_type": "code",
      "metadata": {
        "id": "cJjnhY7JjfWL",
        "colab_type": "code",
        "colab": {}
      },
      "source": [
        "pip install lyricsgenius"
      ],
      "execution_count": 0,
      "outputs": []
    },
    {
      "cell_type": "code",
      "metadata": {
        "id": "K8ss_c47mpmm",
        "colab_type": "code",
        "outputId": "bb0de63e-4e87-4595-c76d-b923c9ab827c",
        "colab": {
          "base_uri": "https://localhost:8080/",
          "height": 51
        }
      },
      "source": [
        "import lyricsgenius\n",
        "import nltk\n",
        "import pandas as pd\n",
        "import numpy as np\n",
        "nltk.download('punkt')\n",
        "from nltk.util import ngrams\n",
        "from nltk.tokenize import word_tokenize\n",
        "\n",
        "from nltk import bigrams, trigrams\n",
        "from collections import Counter, defaultdict\n",
        "import random\n"
      ],
      "execution_count": 2,
      "outputs": [
        {
          "output_type": "stream",
          "text": [
            "[nltk_data] Downloading package punkt to /root/nltk_data...\n",
            "[nltk_data]   Unzipping tokenizers/punkt.zip.\n"
          ],
          "name": "stdout"
        }
      ]
    },
    {
      "cell_type": "code",
      "metadata": {
        "id": "hY5ym8p4HqaY",
        "colab_type": "code",
        "colab": {
          "base_uri": "https://localhost:8080/",
          "height": 1000
        },
        "outputId": "a1110649-a6f8-4608-b020-4563e30685cd"
      },
      "source": [
        "#Download 150 songs from Eminem\n",
        "\n",
        "genius = lyricsgenius.Genius(\"wT_3pYyh-g4_YiSC_hPly0XgNJhkoo72jcXBktiQYvoE9ySq1aATAUwJZb-iH5vq\")\n",
        "artist = genius.search_artist(\"Eminem\", max_songs=150)  \n",
        "genius.remove_section_headers = True "
      ],
      "execution_count": 3,
      "outputs": [
        {
          "output_type": "stream",
          "text": [
            "Searching for songs by Eminem...\n",
            "\n",
            "Song 1: \"Rap God\"\n",
            "Song 2: \"Killshot\"\n",
            "Song 3: \"Lose Yourself\"\n",
            "Song 4: \"The Monster\"\n",
            "Song 5: \"Lucky You\"\n",
            "Song 6: \"Godzilla\"\n",
            "Song 7: \"The Ringer\"\n",
            "Song 8: \"River\"\n",
            "Song 9: \"Berzerk\"\n",
            "Song 10: \"Venom\"\n",
            "Song 11: \"Not Alike\"\n",
            "Song 12: \"Fall\"\n",
            "Song 13: \"Stan\"\n",
            "Song 14: \"Without Me\"\n",
            "Song 15: \"The Real Slim Shady\"\n",
            "Song 16: \"Walk on Water\"\n",
            "Song 17: \"Kamikaze\"\n",
            "Song 18: \"’Till I Collapse\"\n",
            "Song 19: \"Bad Guy\"\n",
            "Song 20: \"Love the Way You Lie\"\n",
            "Song 21: \"Mockingbird\"\n",
            "Song 22: \"8 Mile: B-Rabbit vs Papa Doc\"\n",
            "Song 23: \"Headlights\"\n",
            "Song 24: \"Survival\"\n",
            "Song 25: \"Not Afraid\"\n",
            "Song 26: \"No Love\"\n",
            "Song 27: \"Beautiful\"\n",
            "Song 28: \"Greatest\"\n",
            "Song 29: \"When I’m Gone\"\n",
            "Song 30: \"Love Game\"\n",
            "Song 31: \"My Name Is\"\n",
            "Song 32: \"Legacy\"\n",
            "Song 33: \"Cleanin’ Out My Closet\"\n",
            "Song 34: \"The Way I Am\"\n",
            "Song 35: \"Space Bound\"\n",
            "Song 36: \"Like Toy Soldiers\"\n",
            "Song 37: \"Guts Over Fear\"\n",
            "Song 38: \"Superman\"\n",
            "Song 39: \"Unaccommodating\"\n",
            "Song 40: \"Sing for the Moment\"\n",
            "Song 41: \"Stronger Than I Was\"\n",
            "Song 42: \"Believe\"\n",
            "Song 43: \"Evil Twin\"\n",
            "Song 44: \"Detroit vs. Everybody\"\n",
            "Song 45: \"Untouchable\"\n",
            "Song 46: \"Marshall Mathers\"\n",
            "Song 47: \"So Much Better\"\n",
            "Song 48: \"Kill You\"\n",
            "Song 49: \"Beautiful Pain\"\n",
            "Song 50: \"Kim\"\n",
            "Song 51: \"Campaign Speech\"\n",
            "Song 52: \"Darkness\"\n",
            "Song 53: \"Rhyme or Reason\"\n",
            "Song 54: \"Criminal\"\n",
            "Song 55: \"Stepping Stone\"\n",
            "Song 56: \"Chloraseptic (Remix)\"\n",
            "Song 57: \"I’m Back\"\n",
            "Song 58: \"Kings Never Die\"\n",
            "Song 59: \"Asshole\"\n",
            "Song 60: \"Infinite\"\n",
            "Song 61: \"Just Don’t Give a Fuck\"\n",
            "Song 62: \"Wicked Ways\"\n",
            "Song 63: \"So Far...\"\n",
            "Song 64: \"White America\"\n",
            "Song 65: \"Phenomenal\"\n",
            "Song 66: \"Good Guy\"\n",
            "Song 67: \"Normal\"\n",
            "Song 68: \"You Gon’ Learn\"\n",
            "Song 69: \"BET Shady 2.0 Cypher\"\n",
            "Song 70: \"Shake That\"\n",
            "Song 71: \"Brainless\"\n",
            "Song 72: \"Offended\"\n",
            "Song 73: \"Role Model\"\n",
            "Song 74: \"The Warning\"\n",
            "Song 75: \"Guilty Conscience\"\n",
            "Song 76: \"25 To Life\"\n",
            "Song 77: \"Premonition (Intro)\"\n",
            "Song 78: \"FACK\"\n",
            "Song 79: \"Arose\"\n",
            "Song 80: \"Ass Like That\"\n",
            "Song 81: \"Framed\"\n",
            "Song 82: \"Hailie’s Song\"\n",
            "Song 83: \"Bitch Please II\"\n",
            "Song 84: \"Those Kinda Nights\"\n",
            "Song 85: \"Just Lose It\"\n",
            "Song 86: \"Cold Wind Blows\"\n",
            "Song 87: \"Business\"\n",
            "Song 88: \"Chloraseptic\"\n",
            "Song 89: \"Bad Husband\"\n",
            "Song 90: \"Leaving Heaven\"\n",
            "Song 91: \"Brain Damage\"\n",
            "Song 92: \"Going Through Changes\"\n",
            "Song 93: \"Cinderella Man\"\n",
            "Song 94: \"ShadyXV\"\n",
            "Song 95: \"My Darling\"\n",
            "Song 96: \"Marsh\"\n",
            "Song 97: \"Drug Ballad\"\n",
            "Song 98: \"Rap God - The Fast Part\"\n",
            "Song 99: \"We Made You\"\n",
            "Song 100: \"Castle\"\n",
            "Song 101: \"Like Home\"\n",
            "Song 102: \"Nowhere Fast\"\n",
            "Song 103: \"The Storm (2017 BET Hip-Hop Awards Cypher Verse)\"\n",
            "Song 104: \"8 Mile\"\n",
            "Song 105: \"Baby\"\n",
            "Song 106: \"I Will\"\n",
            "Song 107: \"Rock Bottom\"\n",
            "Song 108: \"Who Knew\"\n",
            "Song 109: \"Insane\"\n",
            "Song 110: \"Soldier\"\n",
            "Song 111: \"3 a.m.\"\n",
            "Song 112: \"Groundhog Day\"\n",
            "Song 113: \"Still Don’t Give a Fuck\"\n",
            "Song 114: \"My Dad’s Gone Crazy\"\n",
            "Song 115: \"8 Mile: Lotto vs B-Rabbit\"\n",
            "Song 116: \"Remind Me\"\n",
            "Song 117: \"Déjà Vu\"\n",
            "Song 118: \"In Your Head\"\n",
            "Song 119: \"8 Mile: Lyckety-Splyt vs B-Rabbit\"\n",
            "Song 120: \"Crack a Bottle\"\n",
            "Song 121: \"Eminem Freestyles on Tim Westwood | 2009\"\n",
            "Song 122: \"Yah Yah\"\n",
            "Song 123: \"Square Dance\"\n",
            "Song 124: \"Rain Man\"\n",
            "Song 125: \"Go to Sleep\"\n",
            "Song 126: \"If I Had...\"\n",
            "Song 127: \"Tragic Endings\"\n",
            "Song 128: \"Stay Wide Awake\"\n",
            "Song 129: \"No Regrets\"\n",
            "Song 130: \"Talkin’ 2 Myself\"\n",
            "Song 131: \"Won’t Back Down\"\n",
            "Song 132: \"Remember Me?\"\n",
            "Song 133: \"Heat\"\n",
            "Song 134: \"In Too Deep\"\n",
            "Song 135: \"Farewell\"\n",
            "Song 136: \"Under the Influence\"\n",
            "Song 137: \"Lock It Up\"\n",
            "Song 138: \"Almost Famous\"\n",
            "Song 139: \"Seduction\"\n",
            "Song 140: \"My Mom\"\n",
            "Song 141: \"Stepdad\"\n",
            "Song 142: \"Bagpipes from Baghdad\"\n",
            "Song 143: \"Little Engine\"\n",
            "Song 144: \"Doe Rae Me (Hailie’s Revenge)\"\n",
            "Song 145: \"Nail in the Coffin (Benzino Diss)\"\n",
            "Song 146: \"On Fire\"\n",
            "Song 147: \"Bad Meets Evil\"\n",
            "Song 148: \"Desperation\"\n",
            "Song 149: \"Yellow Brick Road\"\n",
            "Song 150: \"Die Alone\"\n",
            "\n",
            "Reached user-specified song limit (150).\n",
            "Done. Found 150 songs.\n"
          ],
          "name": "stdout"
        }
      ]
    },
    {
      "cell_type": "code",
      "metadata": {
        "id": "U4mfF1n7HTo_",
        "colab_type": "code",
        "colab": {}
      },
      "source": [
        "#Get the raw text from lyrics of every song\n",
        "\n",
        "u= [i.lyrics for i in artist.songs]"
      ],
      "execution_count": 0,
      "outputs": []
    },
    {
      "cell_type": "code",
      "metadata": {
        "id": "QD7KlUVm4AfZ",
        "colab_type": "code",
        "colab": {}
      },
      "source": [
        "df=pd.DataFrame(u,columns=['text'])\n",
        "df_clean= df.copy()"
      ],
      "execution_count": 0,
      "outputs": []
    },
    {
      "cell_type": "code",
      "metadata": {
        "id": "j52scucN8BGI",
        "colab_type": "code",
        "colab": {}
      },
      "source": [
        "#Some cleaning of raw text\n",
        "\n",
        "df_clean['text']=df_clean['text'].str.lower()\n",
        "df_clean['text']=df_clean['text'].str.replace(\"intro\", ' ')\n",
        "df_clean['text']=df_clean['text'].str.replace(\"verse\", ' ')\n",
        "df_clean['text']=df_clean['text'].str.replace(\"chorus\", ' ')\n",
        "df_clean['text']=df_clean['text'].str.replace(\"outro\", ' ')\n",
        "df_clean['text']=df_clean['text'].str.replace(\"\\n\", ' ')\n",
        "df_clean['text']=df_clean['text'].str.replace(\"\\W+\", ' ')\n",
        "\n",
        "df_clean['text']=df_clean['text'].apply(nltk.word_tokenize)"
      ],
      "execution_count": 0,
      "outputs": []
    },
    {
      "cell_type": "code",
      "metadata": {
        "id": "UWE-27eW3-14",
        "colab_type": "code",
        "colab": {}
      },
      "source": [
        "df_clean['text']"
      ],
      "execution_count": 0,
      "outputs": []
    },
    {
      "cell_type": "code",
      "metadata": {
        "id": "NOzK-6hlAdLF",
        "colab_type": "code",
        "colab": {}
      },
      "source": [
        "#Create trigrams\n",
        "\n",
        "df_clean['text']=df_clean['text'].apply(lambda row: list(nltk.ngrams(row, 3)))"
      ],
      "execution_count": 0,
      "outputs": []
    },
    {
      "cell_type": "code",
      "metadata": {
        "id": "F-TjmC5zkPyC",
        "colab_type": "code",
        "colab": {}
      },
      "source": [
        "#Create Model through 2 level dictionary\n",
        "\n",
        "model = defaultdict(lambda: defaultdict(lambda: 0))"
      ],
      "execution_count": 0,
      "outputs": []
    },
    {
      "cell_type": "code",
      "metadata": {
        "id": "LO_JyeS8AjmP",
        "colab_type": "code",
        "colab": {}
      },
      "source": [
        "#Goes through trigrams in the dataframe and counts the amount of trigrams occasions\n",
        "\n",
        "for i in range(149):\n",
        "  for w1, w2, w3 in df_clean['text'][i]:\n",
        "    model[(w1, w2)][w3] += 1"
      ],
      "execution_count": 0,
      "outputs": []
    },
    {
      "cell_type": "code",
      "metadata": {
        "id": "otHCckAZnIoe",
        "colab_type": "code",
        "colab": {
          "base_uri": "https://localhost:8080/",
          "height": 153
        },
        "outputId": "18d248a2-012c-45ce-f435-540dad22b471"
      },
      "source": [
        "#Example of dictionary structure\n",
        "\n",
        "model['look','i']"
      ],
      "execution_count": 15,
      "outputs": [
        {
          "output_type": "execute_result",
          "data": {
            "text/plain": [
              "defaultdict(<function __main__.<lambda>.<locals>.<lambda>>,\n",
              "            {'can': 1,\n",
              "             'll': 1,\n",
              "             'love': 1,\n",
              "             'm': 1,\n",
              "             'put': 1,\n",
              "             'shoot': 1,\n",
              "             'was': 1})"
            ]
          },
          "metadata": {
            "tags": []
          },
          "execution_count": 15
        }
      ]
    },
    {
      "cell_type": "code",
      "metadata": {
        "id": "Ei6y-bGdlmWo",
        "colab_type": "code",
        "colab": {}
      },
      "source": [
        "#calculate the probabilities from absolute counts\n",
        "\n",
        "for w1_w2 in model:\n",
        "    total_count = float(sum(model[w1_w2].values()))\n",
        "    for w3 in model[w1_w2]:\n",
        "        model[w1_w2][w3] /= total_count"
      ],
      "execution_count": 0,
      "outputs": []
    },
    {
      "cell_type": "code",
      "metadata": {
        "id": "8BZLWOk5m4hH",
        "colab_type": "code",
        "colab": {
          "base_uri": "https://localhost:8080/",
          "height": 153
        },
        "outputId": "e93ee768-5279-4689-f9b8-09dc42624dbc"
      },
      "source": [
        "#Example of dictionary structure in probabilities\n",
        "\n",
        "model['look','i']"
      ],
      "execution_count": 17,
      "outputs": [
        {
          "output_type": "execute_result",
          "data": {
            "text/plain": [
              "defaultdict(<function __main__.<lambda>.<locals>.<lambda>>,\n",
              "            {'can': 0.14285714285714285,\n",
              "             'll': 0.14285714285714285,\n",
              "             'love': 0.14285714285714285,\n",
              "             'm': 0.14285714285714285,\n",
              "             'put': 0.14285714285714285,\n",
              "             'shoot': 0.14285714285714285,\n",
              "             'was': 0.14285714285714285})"
            ]
          },
          "metadata": {
            "tags": []
          },
          "execution_count": 17
        }
      ]
    },
    {
      "cell_type": "code",
      "metadata": {
        "id": "AYFUTiGpteQC",
        "colab_type": "code",
        "colab": {}
      },
      "source": [
        "# Text Generator Method to receive a random sentence with num_word count\n",
        "\n",
        "def text_generator(num_word):\n",
        "\n",
        "  rnd_words=random.choice(list(model))\n",
        "  rnd_words=list(rnd_words)\n",
        "  \n",
        "  counter=0\n",
        "  sentence_complete=False\n",
        "  \n",
        "  while not sentence_complete:\n",
        "    threshold_value= 0.0\n",
        "    rnd= random.random()\n",
        "    for word in model[tuple(rnd_words[-2:])].keys():\n",
        "      threshold_value += model[tuple(rnd_words[-2:])][word]\n",
        "    \n",
        "      if threshold_value > rnd:\n",
        "        rnd_words.append(word)\n",
        "        counter+=1\n",
        "        \n",
        "        break;\n",
        "\n",
        "    if counter==num_word:\n",
        "      sentence_complete = True\n",
        "      rnd_words[0]=rnd_words[0].capitalize()\n",
        "      print(' '.join(rnd_words))"
      ],
      "execution_count": 0,
      "outputs": []
    },
    {
      "cell_type": "code",
      "metadata": {
        "id": "ufBo18DXS7dA",
        "colab_type": "code",
        "colab": {
          "base_uri": "https://localhost:8080/",
          "height": 156
        },
        "outputId": "25646e9b-7303-4ca3-c585-bb04ecf183d0"
      },
      "source": [
        "#Testing random sentences\n",
        "\n",
        "text_generator(10)\n",
        "print('\\n')\n",
        "text_generator(40) \n",
        "print('\\n')\n",
        "text_generator(80)"
      ],
      "execution_count": 43,
      "outputs": [
        {
          "output_type": "stream",
          "text": [
            "Shit y all fools we rock out like mike vick gettin bit\n",
            "\n",
            "\n",
            "Please explain to y all twice that motherfucker s got like damn we just play like you wrote for canibus i ll be nothin either what the future i m a criminal an animal caged who turned crazed but how the fuck\n",
            "\n",
            "\n",
            "Nuts it disgusts me to u turn yo it only turns to a roach with dreams of picnic scenes two kids at home with both ankles and pull that shit intentionally just to get em they ain t i ain t no more fame ahh hahahaha yo x come on hook nate dogg here to save me yo then went and pissed me off now it s impossible to list em all as my flow starts i compose art like the last\n"
          ],
          "name": "stdout"
        }
      ]
    }
  ]
}
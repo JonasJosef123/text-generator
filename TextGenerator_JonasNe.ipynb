{
  "nbformat": 4,
  "nbformat_minor": 0,
  "metadata": {
    "colab": {
      "name": "Untitled1.ipynb",
      "provenance": [],
      "collapsed_sections": []
    },
    "kernelspec": {
      "name": "python3",
      "display_name": "Python 3"
    }
  },
  "cells": [
    {
      "cell_type": "code",
      "metadata": {
        "id": "cJjnhY7JjfWL",
        "colab_type": "code",
        "outputId": "15c3f346-4325-4b48-8a35-725834ac3731",
        "colab": {
          "base_uri": "https://localhost:8080/",
          "height": 292
        }
      },
      "source": [
        "pip install lyricsgenius"
      ],
      "execution_count": 1,
      "outputs": [
        {
          "output_type": "stream",
          "text": [
            "Collecting lyricsgenius\n",
            "  Downloading https://files.pythonhosted.org/packages/4a/47/5aba67735bf3b7f2b1f4c1e5d1f9892050847e27e7fafdec14fc72d41bc1/lyricsgenius-1.8.2-py3-none-any.whl\n",
            "Requirement already satisfied: requests>=2.20.0 in /usr/local/lib/python3.6/dist-packages (from lyricsgenius) (2.21.0)\n",
            "Collecting beautifulsoup4==4.6.0\n",
            "\u001b[?25l  Downloading https://files.pythonhosted.org/packages/9e/d4/10f46e5cfac773e22707237bfcd51bbffeaf0a576b0a847ec7ab15bd7ace/beautifulsoup4-4.6.0-py3-none-any.whl (86kB)\n",
            "\r\u001b[K     |███▊                            | 10kB 17.2MB/s eta 0:00:01\r\u001b[K     |███████▌                        | 20kB 1.7MB/s eta 0:00:01\r\u001b[K     |███████████▎                    | 30kB 2.5MB/s eta 0:00:01\r\u001b[K     |███████████████                 | 40kB 3.3MB/s eta 0:00:01\r\u001b[K     |██████████████████▉             | 51kB 3.9MB/s eta 0:00:01\r\u001b[K     |██████████████████████▋         | 61kB 4.6MB/s eta 0:00:01\r\u001b[K     |██████████████████████████▍     | 71kB 2.9MB/s eta 0:00:01\r\u001b[K     |██████████████████████████████▏ | 81kB 3.3MB/s eta 0:00:01\r\u001b[K     |████████████████████████████████| 92kB 2.9MB/s \n",
            "\u001b[?25hRequirement already satisfied: chardet<3.1.0,>=3.0.2 in /usr/local/lib/python3.6/dist-packages (from requests>=2.20.0->lyricsgenius) (3.0.4)\n",
            "Requirement already satisfied: certifi>=2017.4.17 in /usr/local/lib/python3.6/dist-packages (from requests>=2.20.0->lyricsgenius) (2019.11.28)\n",
            "Requirement already satisfied: idna<2.9,>=2.5 in /usr/local/lib/python3.6/dist-packages (from requests>=2.20.0->lyricsgenius) (2.8)\n",
            "Requirement already satisfied: urllib3<1.25,>=1.21.1 in /usr/local/lib/python3.6/dist-packages (from requests>=2.20.0->lyricsgenius) (1.24.3)\n",
            "Installing collected packages: beautifulsoup4, lyricsgenius\n",
            "  Found existing installation: beautifulsoup4 4.6.3\n",
            "    Uninstalling beautifulsoup4-4.6.3:\n",
            "      Successfully uninstalled beautifulsoup4-4.6.3\n",
            "Successfully installed beautifulsoup4-4.6.0 lyricsgenius-1.8.2\n"
          ],
          "name": "stdout"
        }
      ]
    },
    {
      "cell_type": "code",
      "metadata": {
        "id": "BVijXIZozqs6",
        "colab_type": "code",
        "outputId": "695c57d4-6b1a-4108-9df6-5d3dd4973e7c",
        "colab": {
          "base_uri": "https://localhost:8080/",
          "height": 51
        }
      },
      "source": [
        "pip install nltk"
      ],
      "execution_count": 2,
      "outputs": [
        {
          "output_type": "stream",
          "text": [
            "Requirement already satisfied: nltk in /usr/local/lib/python3.6/dist-packages (3.2.5)\n",
            "Requirement already satisfied: six in /usr/local/lib/python3.6/dist-packages (from nltk) (1.12.0)\n"
          ],
          "name": "stdout"
        }
      ]
    },
    {
      "cell_type": "code",
      "metadata": {
        "id": "K8ss_c47mpmm",
        "colab_type": "code",
        "outputId": "80554a9e-4357-4e47-e9ba-4c5200e1735b",
        "colab": {
          "base_uri": "https://localhost:8080/",
          "height": 51
        }
      },
      "source": [
        "import lyricsgenius\n",
        "import nltk\n",
        "import pandas as pd\n",
        "import numpy as np\n",
        "nltk.download('punkt')\n",
        "from nltk.util import ngrams\n",
        "from nltk.tokenize import word_tokenize\n",
        "\n",
        "from nltk import bigrams, trigrams\n",
        "from collections import Counter, defaultdict\n",
        "import random\n"
      ],
      "execution_count": 3,
      "outputs": [
        {
          "output_type": "stream",
          "text": [
            "[nltk_data] Downloading package punkt to /root/nltk_data...\n",
            "[nltk_data]   Unzipping tokenizers/punkt.zip.\n"
          ],
          "name": "stdout"
        }
      ]
    },
    {
      "cell_type": "code",
      "metadata": {
        "id": "hY5ym8p4HqaY",
        "colab_type": "code",
        "colab": {}
      },
      "source": [
        "genius = lyricsgenius.Genius(\"wT_3pYyh-g4_YiSC_hPly0XgNJhkoo72jcXBktiQYvoE9ySq1aATAUwJZb-iH5vq\")\n",
        "artist = genius.search_artist(\"Eminem\", max_songs=150)  \n",
        "genius.remove_section_headers = True "
      ],
      "execution_count": 0,
      "outputs": []
    },
    {
      "cell_type": "code",
      "metadata": {
        "id": "nP3N9CVrvZU2",
        "colab_type": "code",
        "colab": {}
      },
      "source": [
        "from nltk.corpus import stopwords"
      ],
      "execution_count": 0,
      "outputs": []
    },
    {
      "cell_type": "code",
      "metadata": {
        "id": "Td2NSesLI8i9",
        "colab_type": "code",
        "colab": {}
      },
      "source": [
        "artist.songs"
      ],
      "execution_count": 0,
      "outputs": []
    },
    {
      "cell_type": "code",
      "metadata": {
        "id": "U4mfF1n7HTo_",
        "colab_type": "code",
        "colab": {}
      },
      "source": [
        "u= [i.lyrics for i in artist.songs]"
      ],
      "execution_count": 0,
      "outputs": []
    },
    {
      "cell_type": "code",
      "metadata": {
        "id": "6sYli1FLMKZd",
        "colab_type": "code",
        "colab": {}
      },
      "source": [
        "u"
      ],
      "execution_count": 0,
      "outputs": []
    },
    {
      "cell_type": "code",
      "metadata": {
        "id": "QD7KlUVm4AfZ",
        "colab_type": "code",
        "colab": {}
      },
      "source": [
        "df=pd.DataFrame(u,columns=['text'])"
      ],
      "execution_count": 0,
      "outputs": []
    },
    {
      "cell_type": "code",
      "metadata": {
        "id": "dhHAX5rEK5eH",
        "colab_type": "code",
        "colab": {}
      },
      "source": [
        "df_clean= df.copy()"
      ],
      "execution_count": 0,
      "outputs": []
    },
    {
      "cell_type": "code",
      "metadata": {
        "id": "GTKWuPSGIdnj",
        "colab_type": "code",
        "colab": {}
      },
      "source": [
        "df_clean['text']=df_clean['text'].str.lower()"
      ],
      "execution_count": 0,
      "outputs": []
    },
    {
      "cell_type": "code",
      "metadata": {
        "id": "u-QhZxyNLUcE",
        "colab_type": "code",
        "colab": {}
      },
      "source": [
        "df_clean['text']=df_clean['text'].str.replace(\"intro\", ' ')"
      ],
      "execution_count": 0,
      "outputs": []
    },
    {
      "cell_type": "code",
      "metadata": {
        "id": "XPOBO9uoNKz6",
        "colab_type": "code",
        "colab": {}
      },
      "source": [
        "df_clean['text']=df_clean['text'].str.replace(\"verse\", ' ')"
      ],
      "execution_count": 0,
      "outputs": []
    },
    {
      "cell_type": "code",
      "metadata": {
        "id": "mM2bzjYBc3lq",
        "colab_type": "code",
        "colab": {}
      },
      "source": [
        "df_clean['text']=df_clean['text'].str.replace(\"chorus\", ' ')"
      ],
      "execution_count": 0,
      "outputs": []
    },
    {
      "cell_type": "code",
      "metadata": {
        "id": "al4iNeUdNOCy",
        "colab_type": "code",
        "colab": {}
      },
      "source": [
        "df_clean['text']=df_clean['text'].str.replace(\"outro\", ' ')"
      ],
      "execution_count": 0,
      "outputs": []
    },
    {
      "cell_type": "code",
      "metadata": {
        "id": "SYvPvkzeMR0T",
        "colab_type": "code",
        "colab": {}
      },
      "source": [
        "df_clean['text']=df_clean['text'].str.replace(\"\\n\", ' ')"
      ],
      "execution_count": 0,
      "outputs": []
    },
    {
      "cell_type": "code",
      "metadata": {
        "id": "0awgl2OoNFs7",
        "colab_type": "code",
        "colab": {}
      },
      "source": [
        "df_clean['text']=df_clean['text'].str.replace(\"\\W+\", ' ')"
      ],
      "execution_count": 0,
      "outputs": []
    },
    {
      "cell_type": "code",
      "metadata": {
        "id": "6Fv_11ex1-JR",
        "colab_type": "code",
        "colab": {}
      },
      "source": [
        "df_clean[0]"
      ],
      "execution_count": 0,
      "outputs": []
    },
    {
      "cell_type": "code",
      "metadata": {
        "id": "J1oJm48gMNKX",
        "colab_type": "code",
        "colab": {}
      },
      "source": [
        "df_clean['text']=df_clean['text'].apply(nltk.word_tokenize)"
      ],
      "execution_count": 0,
      "outputs": []
    },
    {
      "cell_type": "code",
      "metadata": {
        "id": "UWE-27eW3-14",
        "colab_type": "code",
        "colab": {}
      },
      "source": [
        "df_clean['text']"
      ],
      "execution_count": 0,
      "outputs": []
    },
    {
      "cell_type": "code",
      "metadata": {
        "id": "NOzK-6hlAdLF",
        "colab_type": "code",
        "colab": {}
      },
      "source": [
        "df_clean['text']=df_clean['text'].apply(lambda row: list(nltk.ngrams(row, 3)))"
      ],
      "execution_count": 0,
      "outputs": []
    },
    {
      "cell_type": "code",
      "metadata": {
        "id": "F-TjmC5zkPyC",
        "colab_type": "code",
        "colab": {}
      },
      "source": [
        "model = defaultdict(lambda: defaultdict(lambda: 0))"
      ],
      "execution_count": 0,
      "outputs": []
    },
    {
      "cell_type": "code",
      "metadata": {
        "id": "LO_JyeS8AjmP",
        "colab_type": "code",
        "colab": {}
      },
      "source": [
        "for i in range(149):\n",
        "  for w1, w2, w3 in df_clean['text'][i]:\n",
        "    model[(w1, w2)][w3] += 1"
      ],
      "execution_count": 0,
      "outputs": []
    },
    {
      "cell_type": "code",
      "metadata": {
        "id": "otHCckAZnIoe",
        "colab_type": "code",
        "colab": {}
      },
      "source": [
        "model"
      ],
      "execution_count": 0,
      "outputs": []
    },
    {
      "cell_type": "code",
      "metadata": {
        "id": "Ei6y-bGdlmWo",
        "colab_type": "code",
        "colab": {}
      },
      "source": [
        "for w1_w2 in model:\n",
        "    total_count = float(sum(model[w1_w2].values()))\n",
        "    for w3 in model[w1_w2]:\n",
        "        model[w1_w2][w3] /= total_count"
      ],
      "execution_count": 0,
      "outputs": []
    },
    {
      "cell_type": "code",
      "metadata": {
        "id": "8BZLWOk5m4hH",
        "colab_type": "code",
        "colab": {}
      },
      "source": [
        "model"
      ],
      "execution_count": 0,
      "outputs": []
    },
    {
      "cell_type": "code",
      "metadata": {
        "id": "3ugDXCbzmkP8",
        "colab_type": "code",
        "colab": {
          "base_uri": "https://localhost:8080/",
          "height": 34
        },
        "outputId": "ff7dbd1f-e6a5-496b-961e-50b8001ff5ba"
      },
      "source": [
        "dict(model['maybe','one'])"
      ],
      "execution_count": 51,
      "outputs": [
        {
          "output_type": "execute_result",
          "data": {
            "text/plain": [
              "{'day': 1.0}"
            ]
          },
          "metadata": {
            "tags": []
          },
          "execution_count": 51
        }
      ]
    },
    {
      "cell_type": "code",
      "metadata": {
        "id": "R15-sZ_5tPVL",
        "colab_type": "code",
        "colab": {}
      },
      "source": [
        "# Method to give 2 starting words and receive sentence with num_word count"
      ],
      "execution_count": 0,
      "outputs": []
    },
    {
      "cell_type": "code",
      "metadata": {
        "id": "gIaquyBrukIe",
        "colab_type": "code",
        "colab": {}
      },
      "source": [
        "rnd_words=['ich','bin','test','test2','test3']"
      ],
      "execution_count": 0,
      "outputs": []
    },
    {
      "cell_type": "code",
      "metadata": {
        "id": "18riHFfjnPDU",
        "colab_type": "code",
        "colab": {}
      },
      "source": [
        "rnd_words[-2:]"
      ],
      "execution_count": 0,
      "outputs": []
    },
    {
      "cell_type": "code",
      "metadata": {
        "id": "hQKLQIkGj7Bi",
        "colab_type": "code",
        "colab": {}
      },
      "source": [
        "for word in model[tuple(rnd_words)].keys():\n",
        "  print(word)\n"
      ],
      "execution_count": 0,
      "outputs": []
    },
    {
      "cell_type": "code",
      "metadata": {
        "id": "AYFUTiGpteQC",
        "colab_type": "code",
        "colab": {}
      },
      "source": [
        "def text_generator(num_word):\n",
        "  \n",
        "  #getting random start words (bigram)\n",
        "  #rnd_song=random.randint(0,149)\n",
        "  \n",
        "  rnd_words=random.choice(list(model))\n",
        "  rnd_words=list(rnd_words)\n",
        "  counter=0\n",
        "  print(rnd_words)\n",
        "  sentence_complete=False\n",
        "  \n",
        "  while not sentence_complete:\n",
        "    threshold_value= .0\n",
        "    rnd= random.random()\n",
        "    for word in model[tuple(rnd_words[-2:])].keys():\n",
        "      threshold_value += model[tuple(rnd_words[-2:])][word]\n",
        "      #print(word)\n",
        "      #print(rnd_words)\n",
        "      #print(threshold_value)\n",
        "\n",
        "\n",
        "      if threshold_value > rnd:\n",
        "        rnd_words.append(word)\n",
        "        counter+=1\n",
        "        \n",
        "        break;\n",
        "\n",
        "    if counter==num_word:\n",
        "      sentence_complete = True\n",
        "      rnd_words[0].upper()\n",
        "      print(' '.join(rnd_words))\n",
        "\n"
      ],
      "execution_count": 0,
      "outputs": []
    },
    {
      "cell_type": "code",
      "metadata": {
        "id": "ufBo18DXS7dA",
        "colab_type": "code",
        "colab": {}
      },
      "source": [
        "text_generator(40)"
      ],
      "execution_count": 0,
      "outputs": []
    },
    {
      "cell_type": "code",
      "metadata": {
        "id": "1bGD0_HWu8RX",
        "colab_type": "code",
        "colab": {}
      },
      "source": [
        "text_generator(3)"
      ],
      "execution_count": 0,
      "outputs": []
    },
    {
      "cell_type": "code",
      "metadata": {
        "id": "ZXXBzw-FN1G-",
        "colab_type": "code",
        "colab": {}
      },
      "source": [
        "len(df_clean['text'])"
      ],
      "execution_count": 0,
      "outputs": []
    },
    {
      "cell_type": "code",
      "metadata": {
        "id": "hI8uSTUkOEeh",
        "colab_type": "code",
        "colab": {}
      },
      "source": [
        "for word in df_clean[0]:\n",
        "  print(word)"
      ],
      "execution_count": 0,
      "outputs": []
    },
    {
      "cell_type": "code",
      "metadata": {
        "id": "WZtfk67B0_Mo",
        "colab_type": "code",
        "colab": {}
      },
      "source": [
        "artist.get_song(77)"
      ],
      "execution_count": 0,
      "outputs": []
    }
  ]
}